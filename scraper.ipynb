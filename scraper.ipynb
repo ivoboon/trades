{
 "cells": [
  {
   "cell_type": "code",
   "execution_count": 12,
   "id": "ef911bd8",
   "metadata": {},
   "outputs": [],
   "source": [
    "import sqlite3\n",
    "import requests\n",
    "import time\n",
    "import os\n",
    "from dotenv import load_dotenv"
   ]
  },
  {
   "cell_type": "code",
   "execution_count": 3,
   "id": "50d84fce",
   "metadata": {},
   "outputs": [],
   "source": [
    "conn = sqlite3.connect(\"seq_data.db\")\n",
    "cur = conn.cursor()"
   ]
  },
  {
   "cell_type": "code",
   "execution_count": 4,
   "id": "28b3cedc",
   "metadata": {},
   "outputs": [
    {
     "data": {
      "text/plain": [
       "<sqlite3.Cursor at 0x26180097340>"
      ]
     },
     "execution_count": 4,
     "metadata": {},
     "output_type": "execute_result"
    }
   ],
   "source": [
    "cur.execute(\"\"\"\n",
    "CREATE TABLE IF NOT EXISTS dim_company (\n",
    "\tcik INTEGER PRIMARY KEY,\n",
    "\tcik_padded TEXT NOT NULL,\n",
    "\tticker TEXT,\n",
    "\tcompany_name TEXT NOT NULL\n",
    ");\n",
    "\"\"\")"
   ]
  },
  {
   "cell_type": "code",
   "execution_count": 13,
   "id": "9f2d258b",
   "metadata": {},
   "outputs": [],
   "source": [
    "load_dotenv()\n",
    "user_agent = os.getenv('user_agent')"
   ]
  },
  {
   "cell_type": "code",
   "execution_count": null,
   "id": "3fbc717b",
   "metadata": {},
   "outputs": [
    {
     "name": "stdout",
     "output_type": "stream",
     "text": [
      "Ivo Boon ivo@ivoboon.nl\n"
     ]
    }
   ],
   "source": []
  }
 ],
 "metadata": {
  "kernelspec": {
   "display_name": "trades",
   "language": "python",
   "name": "python3"
  },
  "language_info": {
   "codemirror_mode": {
    "name": "ipython",
    "version": 3
   },
   "file_extension": ".py",
   "mimetype": "text/x-python",
   "name": "python",
   "nbconvert_exporter": "python",
   "pygments_lexer": "ipython3",
   "version": "3.10.17"
  }
 },
 "nbformat": 4,
 "nbformat_minor": 5
}
