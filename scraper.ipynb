{
 "cells": [
  {
   "cell_type": "markdown",
   "id": "0de23b1b",
   "metadata": {},
   "source": [
    "# Import libraries"
   ]
  },
  {
   "cell_type": "code",
   "execution_count": 29,
   "id": "ef911bd8",
   "metadata": {},
   "outputs": [],
   "source": [
    "import sqlite3\n",
    "import requests\n",
    "import time\n",
    "import os\n",
    "import time\n",
    "import ollama\n",
    "from dotenv import load_dotenv\n",
    "import subprocess\n",
    "import signal"
   ]
  },
  {
   "cell_type": "markdown",
   "id": "99512b32",
   "metadata": {},
   "source": [
    "# Database"
   ]
  },
  {
   "cell_type": "code",
   "execution_count": 14,
   "id": "50d84fce",
   "metadata": {},
   "outputs": [],
   "source": [
    "# Create and/or connect to database\n",
    "conn = sqlite3.connect(\"seq_data.db\")\n",
    "cur = conn.cursor()"
   ]
  },
  {
   "cell_type": "code",
   "execution_count": 15,
   "id": "28b3cedc",
   "metadata": {},
   "outputs": [
    {
     "data": {
      "text/plain": [
       "<sqlite3.Cursor at 0x2024d996c40>"
      ]
     },
     "execution_count": 15,
     "metadata": {},
     "output_type": "execute_result"
    }
   ],
   "source": [
    "# Create a company dimension table\n",
    "cur.execute(\"\"\"\n",
    "CREATE TABLE IF NOT EXISTS dim_company (\n",
    "    cik INTEGER PRIMARY KEY,\n",
    "    cik_padded TEXT NOT NULL,\n",
    "    ticker TEXT,\n",
    "    company_name TEXT NOT NULL,\n",
    "    mgt_insert_timestamp TEXT DEFAULT (datetime('now')),\n",
    "    mgt_update_timestamp TEXT DEFAULT (datetime('now'))\n",
    ");\n",
    "\"\"\")\n",
    "\n",
    "# Create trigger where we update timestamps on first insert\n",
    "cur.execute(\"\"\"\n",
    "CREATE TRIGGER IF NOT EXISTS trg_dim_company_insert\n",
    "AFTER INSERT ON dim_company\n",
    "BEGIN\n",
    "    UPDATE dim_company\n",
    "    SET mgt_insert_timestamp = datetime('now'),\n",
    "        mgt_update_timestamp = datetime('now')\n",
    "    WHERE cik = NEW.cik;\n",
    "END;\n",
    "\"\"\")\n",
    "\n",
    "# Create trigger where we change the update timestamp on row update\n",
    "cur.execute(\"\"\"\n",
    "CREATE TRIGGER IF NOT EXISTS trg_dim_company_update\n",
    "AFTER UPDATE ON dim_company\n",
    "BEGIN\n",
    "    UPDATE dim_company\n",
    "    SET mgt_update_timestamp = datetime('now')\n",
    "    WHERE cik = NEW.cik;\n",
    "END;\n",
    "\"\"\")"
   ]
  },
  {
   "cell_type": "markdown",
   "id": "99198b05",
   "metadata": {},
   "source": [
    "# Get data"
   ]
  },
  {
   "cell_type": "code",
   "execution_count": 16,
   "id": "9f2d258b",
   "metadata": {},
   "outputs": [],
   "source": [
    "# Get our user agent header data from .env\n",
    "# Has format \"name e-mail address\"\n",
    "load_dotenv()\n",
    "user_agent = os.getenv('user_agent')"
   ]
  },
  {
   "cell_type": "code",
   "execution_count": 17,
   "id": "3fbc717b",
   "metadata": {},
   "outputs": [],
   "source": [
    "# Get all the different companies listed at the SEC\n",
    "headers = {\"User-Agent\": user_agent}\n",
    "url = \"https://www.sec.gov/files/company_tickers.json\"\n",
    "res = requests.get(url, headers=headers)\n",
    "companies = res.json()"
   ]
  },
  {
   "cell_type": "code",
   "execution_count": 18,
   "id": "da28953f",
   "metadata": {},
   "outputs": [],
   "source": [
    "# Make an array with the company data and insert it into our dimension table\n",
    "# The cik number is a unique identifier for the company\n",
    "# A padded cik number with 0s to length 10 is required for certain endpoints\n",
    "# The ticker is a short string identifier for the company\n",
    "# Company name is the full name of the company\n",
    "company_data = []\n",
    "for _, c in companies.items():\n",
    "\tcompany_data.append((\n",
    "\t\tc['cik_str'],\n",
    "\t\tstr(c['cik_str']).zfill(10),\n",
    "\t\tc.get('ticker'),\n",
    "\t\tc['title']\n",
    "\t))\n",
    "\n",
    "cur.executemany(\"\"\"\n",
    "INSERT INTO dim_company (cik, cik_padded, ticker, company_name)\n",
    "VALUES (?, ?, ?, ?)\n",
    "ON CONFLICT(cik) DO UPDATE SET\n",
    "    cik_padded = excluded.cik_padded,\n",
    "    ticker = excluded.ticker,\n",
    "    company_name = excluded.company_name\n",
    "WHERE cik_padded != excluded.cik_padded\n",
    "   OR ticker != excluded.ticker\n",
    "   OR company_name != excluded.company_name;\n",
    "\"\"\", company_data)\n",
    "\n",
    "conn.commit()"
   ]
  },
  {
   "cell_type": "code",
   "execution_count": 46,
   "id": "a4c9b5a0",
   "metadata": {},
   "outputs": [
    {
     "name": "stdout",
     "output_type": "stream",
     "text": [
      "https://www.sec.gov/Archives/edgar/data/1067983/000119312524265100/0001193125-24-265100.txt\n",
      "https://www.sec.gov/Archives/edgar/data/1067983/000119312524197170/0001193125-24-197170.txt\n",
      "https://www.sec.gov/Archives/edgar/data/1067983/000119312524172349/0001193125-24-172349.txt\n",
      "https://www.sec.gov/Archives/edgar/data/1067983/000119312524038549/0001193125-24-038549.txt\n",
      "https://www.sec.gov/Archives/edgar/data/1067983/000119312523283406/0001193125-23-283406.txt\n",
      "https://www.sec.gov/Archives/edgar/data/1067983/000119312523281502/0001193125-23-281502.txt\n",
      "https://www.sec.gov/Archives/edgar/data/1067983/000119312523172282/0001193125-23-172282.txt\n",
      "https://www.sec.gov/Archives/edgar/data/1067983/000119312522292023/0001193125-22-292023.txt\n",
      "https://www.sec.gov/Archives/edgar/data/1067983/000119312522211399/0001193125-22-211399.txt\n",
      "https://www.sec.gov/Archives/edgar/data/1067983/000119312522174841/0001193125-22-174841.txt\n",
      "https://www.sec.gov/Archives/edgar/data/1067983/000119312522041102/0001193125-22-041102.txt\n",
      "https://www.sec.gov/Archives/edgar/data/1067983/000119312521236271/0001193125-21-236271.txt\n",
      "https://www.sec.gov/Archives/edgar/data/1067983/000119312521197258/0001193125-21-197258.txt\n",
      "https://www.sec.gov/Archives/edgar/data/1067983/000119312521044362/0001193125-21-044362.txt\n",
      "https://www.sec.gov/Archives/edgar/data/1067983/000119312520250217/0001193125-20-250217.txt\n",
      "https://www.sec.gov/Archives/edgar/data/1067983/000119312520189490/0001193125-20-189490.txt\n",
      "https://www.sec.gov/Archives/edgar/data/1067983/000119312519290150/0001193125-19-290150.txt\n",
      "https://www.sec.gov/Archives/edgar/data/1067983/000119312519227954/0001193125-19-227954.txt\n",
      "https://www.sec.gov/Archives/edgar/data/1067983/000119312519188314/0001193125-19-188314.txt\n",
      "https://www.sec.gov/Archives/edgar/data/1067983/000119312518324620/0001193125-18-324620.txt\n",
      "https://www.sec.gov/Archives/edgar/data/1067983/000110465918059501/0001104659-18-059501.txt\n",
      "https://www.sec.gov/Archives/edgar/data/1067983/000119312518219854/0001193125-18-219854.txt\n",
      "https://www.sec.gov/Archives/edgar/data/1067983/000119312518188831/0001193125-18-188831.txt\n",
      "https://www.sec.gov/Archives/edgar/data/1067983/000119312518161063/0001193125-18-161063.txt\n",
      "https://www.sec.gov/Archives/edgar/data/1067983/000119312518115359/0001193125-18-115359.txt\n",
      "https://www.sec.gov/Archives/edgar/data/1067983/000110465918022890/0001104659-18-022890.txt\n",
      "https://www.sec.gov/Archives/edgar/data/1067983/000119312518094909/0001193125-18-094909.txt\n",
      "https://www.sec.gov/Archives/edgar/data/1067983/000119312517225931/0001193125-17-225931.txt\n",
      "https://www.sec.gov/Archives/edgar/data/1067983/000110465917002579/0001104659-17-002579.txt\n",
      "https://www.sec.gov/Archives/edgar/data/1067983/000119312516648302/0001193125-16-648302.txt\n",
      "https://www.sec.gov/Archives/edgar/data/1341439/000119312518017571/0001193125-18-017571.txt\n",
      "https://www.sec.gov/Archives/edgar/data/1341439/000119312516768943/0001193125-16-768943.txt\n",
      "https://www.sec.gov/Archives/edgar/data/1341439/000119312516720596/0001193125-16-720596.txt\n",
      "https://www.sec.gov/Archives/edgar/data/104169/000112329223000177/0001123292-23-000177.txt\n",
      "https://www.sec.gov/Archives/edgar/data/104169/000112329222000096/0001123292-22-000096.txt\n",
      "https://www.sec.gov/Archives/edgar/data/59478/000119312523212400/0001193125-23-212400.txt\n",
      "https://www.sec.gov/Archives/edgar/data/59478/000119312522296525/0001193125-22-296525.txt\n",
      "https://www.sec.gov/Archives/edgar/data/34088/000095010324006342/0000950103-24-006342.txt\n",
      "https://www.sec.gov/Archives/edgar/data/34088/000095010323007551/0000950103-23-007551.txt\n",
      "https://www.sec.gov/Archives/edgar/data/34088/000095010323003594/0000950103-23-003594.txt\n",
      "https://www.sec.gov/Archives/edgar/data/34088/000095010322013799/0000950103-22-013799.txt\n"
     ]
    }
   ],
   "source": [
    "relevant_forms = (\n",
    "\t\"SC 13 D\", # Schedule 13D: ownership >5% with intent to influence/control\n",
    "\t\"SC 13D/A\", # Amendment to Schedule 13D (updates ownership/intent changes)\n",
    "\t# \"SC 13G\", # Schedule 13G: ownership >5% filed by passive investors\n",
    "\t# \"SC 13G/A\" # Amendment to Schedule 13G (updates to prior 13G filing)\n",
    ")\n",
    "\n",
    "# Loop through data array and get all forms\n",
    "for cik, cik_padded, ticker, title in company_data[:20]:\n",
    "\turl = f\"https://data.sec.gov/submissions/CIK{cik_padded}.json\"\n",
    "\tres = requests.get(url, headers=headers)\n",
    "\n",
    "\t# Get the form metadata\n",
    "\tif res.status_code == 200:\n",
    "\t\tform_data = res.json()\n",
    "\t\tforms = form_data['filings']['recent']['form']\n",
    "\t\taccession_numbers = form_data['filings']['recent']['accessionNumber']\n",
    "\t\tacceptance_datetimes = form_data['filings']['recent']['acceptanceDateTime']\n",
    "\t\n",
    "\t# Loop through all forms\n",
    "\tfor form, acc_number, acc_datetime in zip(forms, accession_numbers, acceptance_datetimes):\n",
    "\n",
    "\t\t# Only relevant forms\n",
    "\t\tif form not in relevant_forms:\n",
    "\t\t\tcontinue\n",
    "\n",
    "\t\t# Retrieve form data\n",
    "\t\tacc_no = acc_number.replace(\"-\", \"\")\n",
    "\t\tfiling_url = f\"https://www.sec.gov/Archives/edgar/data/{cik}/{acc_no}/{acc_number}.txt\"\n",
    "\t\tfiling_res = requests.get(filing_url, headers=headers)\n",
    "\n",
    "\t\tprint(filing_url)\n",
    "\n",
    "\t\t# Only 5 requests per second are allowed\n",
    "\t\ttime.sleep(0.2)"
   ]
  },
  {
   "cell_type": "markdown",
   "id": "486651fe",
   "metadata": {},
   "source": [
    "# Extracting information"
   ]
  },
  {
   "cell_type": "code",
   "execution_count": 47,
   "id": "054c2e25",
   "metadata": {},
   "outputs": [],
   "source": [
    "# Start sub process group which starts Ollama server\n",
    "proc = subprocess.Popen([\"ollama\", \"serve\"], creationflags=subprocess.CREATE_NEW_PROCESS_GROUP)"
   ]
  },
  {
   "cell_type": "code",
   "execution_count": 48,
   "id": "4ebbdeab",
   "metadata": {},
   "outputs": [],
   "source": [
    "doc = filing_res.text\n",
    "\n",
    "prompt = f\"\"\"\n",
    "You are analysing the text from an SEC filing document.\n",
    "Your task is to extract details of stock purchases.\n",
    "\n",
    "These are the rules for the output:\n",
    "- You may only output a valid JSON object.\n",
    "- If a piece of information is not present, return null for that field\n",
    "- The output format must be exactly:\n",
    "{{\n",
    "\t\"company\": <string or null>,\n",
    "\t\"stock_price\": <float or null>,\n",
    "\t\"number_of_stocks\": <int or null>\n",
    "}}\n",
    "\n",
    "{title} bought \"number_of_stocks\" of \"company\" for \"stock_price\"\n",
    "\n",
    "So the output is for instance:\n",
    "{{\n",
    "\t\"company\": \"ING\",\n",
    "\t\"stock_price\": 2.56,\n",
    "\t\"number_of_stocks\": 48930\n",
    "}}\n",
    "\n",
    "Or if this information is not available in the document:\n",
    "{{\n",
    "\t\"company\": \"ING\",\n",
    "\t\"stock_price\": null,\n",
    "\t\"number_of_stocks\": null\n",
    "}}\n",
    "\n",
    "Text to analyse:\n",
    "\\\"\\\"\\\"{doc}\\\"\\\"\\\"\n",
    "\"\"\""
   ]
  },
  {
   "cell_type": "code",
   "execution_count": 49,
   "id": "2d65bd14",
   "metadata": {},
   "outputs": [],
   "source": [
    "response = ollama.chat(\n",
    "\tmodel=\"qwen3:30b\",\n",
    "\tmessages=[{\"role\": \"user\", \"content\": prompt}]\n",
    ")"
   ]
  },
  {
   "cell_type": "code",
   "execution_count": 50,
   "id": "d99ea8dc",
   "metadata": {},
   "outputs": [
    {
     "data": {
      "text/plain": [
       "'<think>\\nWe are given an HTML document that appears to be a Registration Rights Agreement between a company and an investor.\\n The task is to extract the key information from this document.\\n\\n Steps:\\n 1. Identify the company name, investor name, and the date of the agreement.\\n 2. Extract the address for notice (as provided in the signature page for the investor).\\n 3. Note the names and titles of the signatories.\\n\\n However, note that the document is provided in a string that is part of a SEC filing.\\n\\n Let\\'s break down the document:\\n\\n - The company is \"Global Clean Energy Holdings, Inc.\"\\n - The investor is \"ExxonMobil Renewables LLC\"\\n - The date is not explicitly stated in the main body, but the agreement is \"as of the date first set forth above\". \\n   However, in the signature block, the company\\'s signature has:\\n        Name: Richard Palmer\\n        Title: Chief Executive Officer\\n   and the investor\\'s signature has:\\n        Name: Gloria Moncada\\n        Title: President\\n\\n - The address for notice for the investor is provided in a table at the end:\\n        EMHC E3.3B.358\\n        22777 Springwoods Village Parkway\\n        Spring, TX 77389\\n        Attn: Gloria Moncada\\n        Email: gloria.moncada@exxonmobil.com\\n\\n We are to extract:\\n   - Company: Global Clean Energy Holdings, Inc.\\n   - Investor: ExxonMobil Renewables LLC\\n   - Signatory (Company): Richard Palmer, Chief Executive Officer\\n   - Signatory (Investor): Gloria Moncada, President\\n   - Notice Address (Investor): \\n        EMHC E3.3B.358\\n        22777 Springwoods Village Parkway\\n        Spring, TX 77389\\n        Attn: Gloria Moncada\\n        Email: gloria.moncada@exxonmobil.com\\n\\n However, note that the document also has a section for \"Address For Notice\" for the investor in the signature page.\\n\\n But note: the problem says \"extract the key information\", so we\\'ll output the required fields.\\n\\n Since the problem does not specify a particular format, we\\'ll output in a structured way.\\n\\n Let\\'s create a dictionary with the following keys:\\n   \"company\": \"Global Clean Energy Holdings, Inc.\"\\n   \"investor\": \"ExxonMobil Renewables LLC\"\\n   \"company_signatory\": {\\n        \"name\": \"Richard Palmer\",\\n        \"title\": \"Chief Executive Officer\"\\n   }\\n   \"investor_signatory\": {\\n        \"name\": \"Gloria Moncada\",\\n        \"title\": \"President\"\\n   }\\n   \"notice_address\": [\\n        \"EMHC E3.3B.358\",\\n        \"22777 Springwoods Village Parkway\",\\n        \"Spring, TX 77389\",\\n        \"Attn: Gloria Moncada\",\\n        \"Email: gloria.moncada@exxonmobil.com\"\\n   ]\\n\\n However, note that the problem does not require a specific format. Since it\\'s a text extraction, we\\'ll output in a clear format.\\n\\n But note: the problem says \"You are an AI that helps with extracting information from documents\", so we are to output the extracted data.\\n\\n Let\\'s write the extracted data in a JSON-like structure for clarity.\\n\\n However, the instruction does not specify the output format. But since it\\'s an extraction task, we\\'ll output in a structured text.\\n\\n But note: the problem says \"extract the key information\", so we\\'ll list the key points.\\n\\n Alternatively, we can output:\\n\\n Company: Global Clean Energy Holdings, Inc.\\n Investor: ExxonMobil Renewables LLC\\n Company Signatory: Richard Palmer, Chief Executive Officer\\n Investor Signatory: Gloria Moncada, President\\n Notice Address:\\n   EMHC E3.3B.358\\n   22777 Springwoods Village Parkway\\n   Spring, TX 77389\\n   Attn: Gloria Moncada\\n   Email: gloria.moncada@exxonmobil.com\\n\\n However, the problem does not require a specific output format. We\\'ll output in a clear text format.\\n\\n But note: the problem says \"You are an AI\", so we can output a structured response.\\n\\n Since the problem is in a coding context, let\\'s output a JSON object.\\n\\n However, the problem does not specify, so we\\'ll do:\\n\\n {\\n   \"company\": \"Global Clean Energy Holdings, Inc.\",\\n   \"investor\": \"ExxonMobil Renewables LLC\",\\n   \"company_signatory\": {\\n        \"name\": \"Richard Palmer\",\\n        \"title\": \"Chief Executive Officer\"\\n   },\\n   \"investor_signatory\": {\\n        \"name\": \"Gloria Moncada\",\\n        \"title\": \"President\"\\n   },\\n   \"notice_address\": [\\n        \"EMHC E3.3B.358\",\\n        \"22777 Springwoods Village Parkway\",\\n        \"Spring, TX 77389\",\\n        \"Attn: Gloria Moncada\",\\n        \"Email: gloria.moncada@exxonmobil.com\"\\n   ]\\n }\\n\\n But note: the address for notice is provided in the table as multiple lines.\\n\\n However, the problem says \"extract the key information\", so we\\'ll extract as above.\\n\\n Let\\'s verify the data:\\n\\n - Company: found in the table under \"COMPANY\" and the company name is \"Global Clean Energy Holdings, Inc.\"\\n - Investor: found in the table under \"INVESTOR\" and the name is \"ExxonMobil Renewables LLC\"\\n - Company signatory: Richard Palmer, Chief Executive Officer (from the table)\\n - Investor signatory: Gloria Moncada, President (from the table)\\n - Notice address: in the last table, the address for notice.\\n\\n But note: the notice address is provided in a separate table after the investor signature.\\n\\n We\\'ll extract exactly as provided.\\n\\n However, note that the document has a line: \"Address For Notice: \" and then the address.\\n\\n We\\'ll extract the address lines as they appear.\\n\\n Let\\'s write the JSON.\\n\\n But note: the problem does not require JSON, but since it\\'s a structured extraction, we\\'ll output in JSON.\\n\\n However, the problem says \"extract the key information\", so we\\'ll output in a way that is clear.\\n\\n Given the constraints of the problem (it\\'s a text-based response), we\\'ll output the JSON.\\n\\n But note: the problem does not specify the output format. So we\\'ll output a JSON string.\\n\\n However, since this is a text response, we\\'ll write the JSON.\\n\\n Let\\'s code the extraction:\\n\\n Steps in code (but we are not writing code, we are writing the extracted data as a string):\\n\\n But note: we are to provide the extracted information as the answer.\\n\\n We\\'ll write:\\n\\n {\\n   \"company\": \"Global Clean Energy Holdings, Inc.\",\\n   \"investor\": \"ExxonMobil Renewables LLC\",\\n   \"company_signatory\": {\\n        \"name\": \"Richard Palmer\",\\n        \"title\": \"Chief Executive Officer\"\\n   },\\n   \"investor_signatory\": {\\n        \"name\": \"Gloria Moncada\",\\n        \"title\": \"President\"\\n   },\\n   \"notice_address\": [\\n        \"EMHC E3.3B.358\",\\n        \"22777 Springwoods Village Parkway\",\\n        \"Spring, TX 77389\",\\n        \"Attn: Gloria Moncada\",\\n        \"Email: gloria.moncada@exxonmobil.com\"\\n   ]\\n }\\n\\n However, note that the document has a section for the company\\'s notice address? But the document only provided the investor\\'s notice address in the signature block.\\n\\n The company\\'s notice address is not provided in the document (it\\'s the company\\'s own address, but the document only shows the investor\\'s notice address at the end).\\n\\n So we only have the investor\\'s notice address.\\n\\n Let\\'s output the above JSON.\\n\\n But note: the problem says \"extract the key information\", and the key information includes the notice address for the investor.\\n\\n We are not given the company\\'s notice address, so we don\\'t include it.\\n\\n Now, note that the document also has a line in the beginning:\\n\\n   \"You are an AI that helps with extracting information from documents.\"\\n\\n So we are to output the extracted data.\\n\\n Therefore, we output the JSON string.\\n\\n However, since we are in a text response, we\\'ll write the JSON.\\n\\n But note: the problem does not require code, so we just output the JSON.\\n\\n Let\\'s write it.\\n</think>\\n\\n{\\n  \"company\": \"Global Clean Energy Holdings, Inc.\",\\n  \"investor\": \"ExxonMobil Renewables LLC\",\\n  \"company_signatory\": {\\n    \"name\": \"Richard Palmer\",\\n    \"title\": \"Chief Executive Officer\"\\n  },\\n  \"investor_signatory\": {\\n    \"name\": \"Gloria Moncada\",\\n    \"title\": \"President\"\\n  },\\n  \"notice_address\": [\\n    \"EMHC E3.3B.358\",\\n    \"22777 Springwoods Village Parkway\",\\n    \"Spring, TX 77389\",\\n    \"Attn: Gloria Moncada\",\\n    \"Email: gloria.moncada@exxonmobil.com\"\\n  ]\\n}'"
      ]
     },
     "execution_count": 50,
     "metadata": {},
     "output_type": "execute_result"
    }
   ],
   "source": [
    "response['message']['content']"
   ]
  },
  {
   "cell_type": "code",
   "execution_count": 32,
   "id": "e01fd27a",
   "metadata": {},
   "outputs": [],
   "source": [
    "# Kill the Ollama process group\n",
    "os.kill(proc.pid, signal.CTRL_BREAK_EVENT)"
   ]
  }
 ],
 "metadata": {
  "kernelspec": {
   "display_name": "trades",
   "language": "python",
   "name": "python3"
  },
  "language_info": {
   "codemirror_mode": {
    "name": "ipython",
    "version": 3
   },
   "file_extension": ".py",
   "mimetype": "text/x-python",
   "name": "python",
   "nbconvert_exporter": "python",
   "pygments_lexer": "ipython3",
   "version": "3.10.17"
  }
 },
 "nbformat": 4,
 "nbformat_minor": 5
}
