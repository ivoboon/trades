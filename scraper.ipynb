{
 "cells": [
  {
   "cell_type": "markdown",
   "id": "0de23b1b",
   "metadata": {},
   "source": [
    "# Import libraries"
   ]
  },
  {
   "cell_type": "code",
   "execution_count": null,
   "id": "ef911bd8",
   "metadata": {},
   "outputs": [],
   "source": [
    "import sqlite3\n",
    "import requests\n",
    "import time\n",
    "import os\n",
    "import time\n",
    "import ollama\n",
    "from dotenv import load_dotenv\n",
    "import subprocess\n",
    "import signal\n",
    "from pydantic import BaseModel, ValidationError\n",
    "from typing import List, Optional\n",
    "from datetime import datetime"
   ]
  },
  {
   "cell_type": "markdown",
   "id": "99512b32",
   "metadata": {},
   "source": [
    "# Database"
   ]
  },
  {
   "cell_type": "code",
   "execution_count": null,
   "id": "50d84fce",
   "metadata": {},
   "outputs": [],
   "source": [
    "# Create and/or connect to database\n",
    "conn = sqlite3.connect(\"seq_data.db\")\n",
    "cur = conn.cursor()\n",
    "\n",
    "# Enable foreign keys\n",
    "cur.execute(\"PRAGMA foreign_keys = ON;\")"
   ]
  },
  {
   "cell_type": "code",
   "execution_count": null,
   "id": "28b3cedc",
   "metadata": {},
   "outputs": [],
   "source": [
    "# Create a company dimension table\n",
    "cur.execute(\"\"\"\n",
    "CREATE TABLE IF NOT EXISTS dim_company (\n",
    "    cik INTEGER PRIMARY KEY,\n",
    "    cik_padded TEXT NOT NULL,\n",
    "    ticker TEXT,\n",
    "    company_name TEXT NOT NULL,\n",
    "    mgt_insert_timestamp TEXT DEFAULT (datetime('now'))\n",
    ");\n",
    "\"\"\")\n",
    "\n",
    "# Create a table with the documents\n",
    "cur.execute(\"\"\"\n",
    "CREATE TABLE IF NOT EXISTS fct_form (\n",
    "\taccession_number TEXT PRIMARY KEY,\n",
    "\tcik INTEGER NOT NULL,\n",
    "\tacceptance_timestamp TEXT,\n",
    "\tform_type TEXT,\n",
    "\tinvestor TEXT,\n",
    "\townership REAL,\n",
    "\tform TEXT,\n",
    "\tmgt_insert_timestamp TEXT DEFAULT (datetime('now')),\n",
    "\tFOREIGN KEY (cik) REFERENCES dim_company(cik)\n",
    ");\n",
    "\"\"\")"
   ]
  },
  {
   "cell_type": "markdown",
   "id": "99198b05",
   "metadata": {},
   "source": [
    "# Get data and extract information"
   ]
  },
  {
   "cell_type": "code",
   "execution_count": null,
   "id": "9f2d258b",
   "metadata": {},
   "outputs": [],
   "source": [
    "# Get our user agent header data from .env\n",
    "# Has format \"name e-mail address\"\n",
    "load_dotenv()\n",
    "user_agent = os.getenv('user_agent')"
   ]
  },
  {
   "cell_type": "code",
   "execution_count": null,
   "id": "3fbc717b",
   "metadata": {},
   "outputs": [],
   "source": [
    "# Get all the different companies listed at the SEC\n",
    "headers = {\"User-Agent\": user_agent}\n",
    "url = \"https://www.sec.gov/files/company_tickers.json\"\n",
    "res = requests.get(url, headers=headers)\n",
    "companies = res.json()"
   ]
  },
  {
   "cell_type": "code",
   "execution_count": null,
   "id": "da28953f",
   "metadata": {},
   "outputs": [],
   "source": [
    "# Make an array with the company data and insert it into our dimension table\n",
    "# The cik number is a unique identifier for the company\n",
    "# A padded cik number with 0s to length 10 is required for certain endpoints\n",
    "# The ticker is a short string identifier for the company\n",
    "# Company name is the full name of the company\n",
    "company_data = []\n",
    "for _, c in companies.items():\n",
    "\tcompany_data.append((\n",
    "\t\tc['cik_str'],\n",
    "\t\tstr(c['cik_str']).zfill(10),\n",
    "\t\tc.get('ticker'),\n",
    "\t\tc['title']\n",
    "\t))\n",
    "\n",
    "cur.executemany(\"\"\"\n",
    "INSERT OR REPLACE INTO dim_company (cik, cik_padded, ticker, company_name)\n",
    "VALUES (?, ?, ?, ?);\n",
    "\"\"\", company_data)\n",
    "\n",
    "conn.commit()"
   ]
  },
  {
   "cell_type": "code",
   "execution_count": null,
   "id": "2325bf5e",
   "metadata": {},
   "outputs": [],
   "source": [
    "# Ensure correct JSON formatting\n",
    "class ResponseSchema(BaseModel):\n",
    "\tinvestor: str | None\n",
    "\townership: float | None"
   ]
  },
  {
   "cell_type": "code",
   "execution_count": null,
   "id": "054c2e25",
   "metadata": {},
   "outputs": [],
   "source": [
    "# Start sub process group which starts Ollama server\n",
    "proc = subprocess.Popen([\"ollama\", \"serve\"], creationflags=subprocess.CREATE_NEW_PROCESS_GROUP)\n",
    "model = \"qwen3:4b\""
   ]
  },
  {
   "cell_type": "code",
   "execution_count": null,
   "id": "a4c9b5a0",
   "metadata": {},
   "outputs": [],
   "source": [
    "# We only want to extract relevant forms\n",
    "relevant_forms = (\n",
    "\t\"SC 13 D\", # Schedule 13D: ownership >5% with intent to influence/control\n",
    "\t\"SC 13D/A\", # Amendment to Schedule 13D (updates ownership/intent changes)\n",
    "\t\"SC 13G\", # Schedule 13G: ownership >5% filed by passive investors\n",
    "\t\"SC 13G/A\" # Amendment to Schedule 13G (updates to prior 13G filing)\n",
    ")\n",
    "\n",
    "# We can only make 5 requests per second\n",
    "min_wait = 0.2\n",
    "\n",
    "# Check how many new records we've inserted into the database, for logging purposes\n",
    "num_forms = 0\n",
    "\n",
    "# Loop through data array and get all forms\n",
    "for cik, cik_padded, ticker, title in company_data:\n",
    "\turl = f\"https://data.sec.gov/submissions/CIK{cik_padded}.json\"\n",
    "\tres = requests.get(url, headers=headers)\n",
    "\n",
    "\t# Get the form metadata\n",
    "\tif res.status_code == 200:\n",
    "\t\tform_data = res.json()\n",
    "\t\tforms = form_data['filings']['recent']['form']\n",
    "\t\taccession_numbers = form_data['filings']['recent']['accessionNumber']\n",
    "\t\tacceptance_datetimes = form_data['filings']['recent']['acceptanceDateTime']\n",
    "\t\n",
    "\t# Loop through all forms\n",
    "\tfor form, acc_number, acc_timestamp in zip(forms, accession_numbers, acceptance_datetimes):\n",
    "\n",
    "\t\tstart_time = time.time()\n",
    "\n",
    "\t\t# Check if form is already present in the database\n",
    "\t\tcur.execute(\"SELECT 1 FROM fct_form WHERE accession_number = ?\", (acc_number,))\n",
    "\t\tform_check = cur.fetchone()\n",
    "\n",
    "\t\t# Only relevant forms\n",
    "\t\tif form not in relevant_forms or form_check is not None:\n",
    "\t\t\tcontinue\n",
    "\n",
    "\t\t# Retrieve form data\n",
    "\t\tacc_no = acc_number.replace(\"-\", \"\")\n",
    "\t\tfiling_url = f\"https://www.sec.gov/Archives/edgar/data/{cik}/{acc_no}/{acc_number}.txt\"\n",
    "\t\tfiling_res = requests.get(filing_url, headers=headers)\n",
    "\t\tdoc = filing_res.text\n",
    "\n",
    "\t\t# Prompt used to extract information\n",
    "\t\tprompt = f\"\"\"\n",
    "\t\tGenerate a JSON object with the following keys only: \n",
    "\t\t- \"investor\": string\n",
    "\t\t- \"ownership\": float\n",
    "\n",
    "\t\tYou are analysing the text from an SEC filing document.\n",
    "\t\tAn investory has purchased a significant percentage of {title}'s voting stock, causing them to file this document with the SEC.\n",
    "\t\tYour job is to find the name of the investor, and to find the ownership that was acquired.\n",
    "\t\tOwnership must be a percentage, value between 0 and 1.\n",
    "\t\tIf a piece of information is not present, return null for that field.\n",
    "\n",
    "\t\tThis is the SEC document you need to analyse:\n",
    "\t\t\\\"\\\"\\\"{doc}\\\"\\\"\\\"\n",
    "\t\t\"\"\"\n",
    "\n",
    "\t\t# Use LLM to extract information\n",
    "\t\tresponse = ollama.chat(\n",
    "\t\t\tmodel=model,\n",
    "\t\t\tmessages=[{\"role\": \"user\", \"content\": prompt}],\n",
    "\t\t\tformat='json'\n",
    "\t\t)\n",
    "\t\t\n",
    "\t\t# Ensure the correct JSON formatting\n",
    "\t\ttry:\n",
    "\t\t\tparsed = ResponseSchema.model_validate_json(response['message']['content'])\n",
    "\n",
    "\t\texcept ValidationError:\n",
    "\t\t\tcontinue\n",
    "\n",
    "\t\t# Merge data into database\n",
    "\t\tresult = parsed.model_dump()\n",
    "\n",
    "\t\t# Convert timestamp data to a format used in SQLite3 database\n",
    "\t\tdt = datetime.strptime(acc_timestamp, \"%Y-%m-%dT%H:%M:%S.%fZ\")\n",
    "\t\tsqlite_timestamp = dt.strftime(\"%Y-%m-%d %H:%M:%S\")\n",
    "\n",
    "\t\t# Insert data into database\n",
    "\t\tcur.execute(\"\"\"\n",
    "\t\tINSERT INTO fct_form (accession_number, cik, acceptance_timestamp, form_type, investor, ownership, form)\n",
    "\t\tVALUES (?, ?, ?, ?, ?, ?, ?);\n",
    "\t\t\"\"\", (acc_number, cik, sqlite_timestamp, form, result.get('investor'), result.get('ownership'), doc)\n",
    "\t\t)\n",
    "\n",
    "\t\tconn.commit()\n",
    "\n",
    "\t\tnum_forms += 1\n",
    "\n",
    "\t\t# Rate limiting\n",
    "\t\twait_time = min_wait - (time.time() - start_time)\n",
    "\t\tif wait_time > 0:\n",
    "\t\t\ttime.sleep(wait_time)\n",
    "\n",
    "# Logging\n",
    "print(f\"Number of new forms: {num_forms}\")"
   ]
  },
  {
   "cell_type": "code",
   "execution_count": null,
   "id": "e01fd27a",
   "metadata": {},
   "outputs": [],
   "source": [
    "# Kill the Ollama process group\n",
    "os.kill(proc.pid, signal.CTRL_BREAK_EVENT)"
   ]
  },
  {
   "cell_type": "code",
   "execution_count": null,
   "id": "f3aca255",
   "metadata": {},
   "outputs": [],
   "source": [
    "# Close the database connection\n",
    "conn.close()"
   ]
  }
 ],
 "metadata": {
  "kernelspec": {
   "display_name": "trades",
   "language": "python",
   "name": "python3"
  },
  "language_info": {
   "codemirror_mode": {
    "name": "ipython",
    "version": 3
   },
   "file_extension": ".py",
   "mimetype": "text/x-python",
   "name": "python",
   "nbconvert_exporter": "python",
   "pygments_lexer": "ipython3",
   "version": "3.10.17"
  }
 },
 "nbformat": 4,
 "nbformat_minor": 5
}
