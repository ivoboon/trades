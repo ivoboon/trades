{
 "cells": [
  {
   "cell_type": "markdown",
   "id": "0de23b1b",
   "metadata": {},
   "source": [
    "# Import libraries"
   ]
  },
  {
   "cell_type": "code",
   "execution_count": 56,
   "id": "ef911bd8",
   "metadata": {},
   "outputs": [],
   "source": [
    "import sqlite3\n",
    "import requests\n",
    "import time\n",
    "import os\n",
    "from dotenv import load_dotenv"
   ]
  },
  {
   "cell_type": "markdown",
   "id": "99512b32",
   "metadata": {},
   "source": [
    "# Database"
   ]
  },
  {
   "cell_type": "code",
   "execution_count": 57,
   "id": "50d84fce",
   "metadata": {},
   "outputs": [],
   "source": [
    "# Create and/or connect to database\n",
    "conn = sqlite3.connect(\"seq_data.db\")\n",
    "cur = conn.cursor()"
   ]
  },
  {
   "cell_type": "code",
   "execution_count": 58,
   "id": "28b3cedc",
   "metadata": {},
   "outputs": [
    {
     "data": {
      "text/plain": [
       "<sqlite3.Cursor at 0x27929f50740>"
      ]
     },
     "execution_count": 58,
     "metadata": {},
     "output_type": "execute_result"
    }
   ],
   "source": [
    "# Create a company dimension table\n",
    "cur.execute(\"\"\"\n",
    "CREATE TABLE IF NOT EXISTS dim_company (\n",
    "    cik INTEGER PRIMARY KEY,\n",
    "    cik_padded TEXT NOT NULL,\n",
    "    ticker TEXT,\n",
    "    company_name TEXT NOT NULL,\n",
    "    mgt_insert_timestamp TEXT DEFAULT (datetime('now')),\n",
    "    mgt_update_timestamp TEXT DEFAULT (datetime('now'))\n",
    ");\n",
    "\"\"\")\n",
    "\n",
    "# Create trigger where we update timestamps on first insert\n",
    "cur.execute(\"\"\"\n",
    "CREATE TRIGGER IF NOT EXISTS trg_dim_company_insert\n",
    "AFTER INSERT ON dim_company\n",
    "BEGIN\n",
    "    UPDATE dim_company\n",
    "    SET mgt_insert_timestamp = datetime('now'),\n",
    "        mgt_update_timestamp = datetime('now')\n",
    "    WHERE cik = NEW.cik;\n",
    "END;\n",
    "\"\"\")\n",
    "\n",
    "# Create trigger where we change the update timestamp on row update\n",
    "cur.execute(\"\"\"\n",
    "CREATE TRIGGER IF NOT EXISTS trg_dim_company_update\n",
    "AFTER UPDATE ON dim_company\n",
    "BEGIN\n",
    "    UPDATE dim_company\n",
    "    SET mgt_update_timestamp = datetime('now')\n",
    "    WHERE cik = NEW.cik;\n",
    "END;\n",
    "\"\"\")"
   ]
  },
  {
   "cell_type": "markdown",
   "id": "99198b05",
   "metadata": {},
   "source": [
    "# Get data"
   ]
  },
  {
   "cell_type": "code",
   "execution_count": 59,
   "id": "9f2d258b",
   "metadata": {},
   "outputs": [],
   "source": [
    "# Get our user agent header data from .env\n",
    "# Has format \"name e-mail address\"\n",
    "load_dotenv()\n",
    "user_agent = os.getenv('user_agent')"
   ]
  },
  {
   "cell_type": "code",
   "execution_count": 60,
   "id": "3fbc717b",
   "metadata": {},
   "outputs": [],
   "source": [
    "# Get all the different companies listed at the SEC\n",
    "headers = {\"User-Agent\": user_agent}\n",
    "url = \"https://www.sec.gov/files/company_tickers.json\"\n",
    "res = requests.get(url, headers=headers)\n",
    "companies = res.json()"
   ]
  },
  {
   "cell_type": "code",
   "execution_count": 61,
   "id": "da28953f",
   "metadata": {},
   "outputs": [],
   "source": [
    "# Make an array with the company data and insert it into our dimension table\n",
    "# The cik number is a unique identifier for the company\n",
    "# A padded cik number with 0s to length 10 is required for certain endpoints\n",
    "# The ticker is a short string identifier for the company\n",
    "# Company name is the full name of the company\n",
    "company_data = []\n",
    "for _, c in companies.items():\n",
    "\tcompany_data.append((\n",
    "\t\tc['cik_str'],\n",
    "\t\tstr(c['cik_str']).zfill(10),\n",
    "\t\tc.get('ticker'),\n",
    "\t\tc['title']\n",
    "\t))\n",
    "\n",
    "cur.executemany(\"\"\"\n",
    "INSERT INTO dim_company (cik, cik_padded, ticker, company_name)\n",
    "VALUES (?, ?, ?, ?)\n",
    "ON CONFLICT(cik) DO UPDATE SET\n",
    "    cik_padded = excluded.cik_padded,\n",
    "    ticker = excluded.ticker,\n",
    "    company_name = excluded.company_name\n",
    "WHERE cik_padded != excluded.cik_padded\n",
    "   OR ticker != excluded.ticker\n",
    "   OR company_name != excluded.company_name;\n",
    "\"\"\", company_data)\n",
    "\n",
    "conn.commit()"
   ]
  }
 ],
 "metadata": {
  "kernelspec": {
   "display_name": "trades",
   "language": "python",
   "name": "python3"
  },
  "language_info": {
   "codemirror_mode": {
    "name": "ipython",
    "version": 3
   },
   "file_extension": ".py",
   "mimetype": "text/x-python",
   "name": "python",
   "nbconvert_exporter": "python",
   "pygments_lexer": "ipython3",
   "version": "3.10.17"
  }
 },
 "nbformat": 4,
 "nbformat_minor": 5
}
