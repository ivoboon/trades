{
 "cells": [
  {
   "cell_type": "code",
   "execution_count": null,
   "id": "ef911bd8",
   "metadata": {},
   "outputs": [],
   "source": [
    "import sqlite3\n",
    "import requests\n",
    "import time\n",
    "import os\n",
    "from dotenv import load_dotenv"
   ]
  },
  {
   "cell_type": "code",
   "execution_count": 3,
   "id": "50d84fce",
   "metadata": {},
   "outputs": [],
   "source": [
    "conn = sqlite3.connect(\"seq_data.db\")\n",
    "cur = conn.cursor()"
   ]
  },
  {
   "cell_type": "code",
   "execution_count": 4,
   "id": "28b3cedc",
   "metadata": {},
   "outputs": [
    {
     "data": {
      "text/plain": [
       "<sqlite3.Cursor at 0x26180097340>"
      ]
     },
     "execution_count": 4,
     "metadata": {},
     "output_type": "execute_result"
    }
   ],
   "source": [
    "cur.execute(\"\"\"\n",
    "CREATE TABLE IF NOT EXISTS dim_company (\n",
    "\tcik INTEGER PRIMARY KEY,\n",
    "\tcik_padded TEXT NOT NULL,\n",
    "\tticker TEXT,\n",
    "\tcompany_name TEXT NOT NULL\n",
    ");\n",
    "\"\"\")"
   ]
  },
  {
   "cell_type": "code",
   "execution_count": 17,
   "id": "9f2d258b",
   "metadata": {},
   "outputs": [],
   "source": [
    "load_dotenv()\n",
    "user_agent = os.getenv('user_agent')"
   ]
  },
  {
   "cell_type": "code",
   "execution_count": 18,
   "id": "3fbc717b",
   "metadata": {},
   "outputs": [],
   "source": [
    "headers = {\"User-Agent\": user_agent}\n",
    "url = \"https://www.sec.gov/files/company_tickers.json\"\n",
    "res = requests.get(url, headers=headers)\n",
    "companies = res.json()"
   ]
  },
  {
   "cell_type": "code",
   "execution_count": 19,
   "id": "da28953f",
   "metadata": {},
   "outputs": [],
   "source": [
    "company_data = []\n",
    "for _, c in companies.items():\n",
    "\tcompany_data.append((\n",
    "\t\tc['cik_str'],\n",
    "\t\tstr(c['cik_str']).zfill(10),\n",
    "\t\tc.get('ticker'),\n",
    "\t\tc['title']\n",
    "\t))\n",
    "\n",
    "cur.executemany(\"\"\"\n",
    "INSERT OR REPLACE INTO dim_company (cik, cik_padded, ticker, company_name)\n",
    "VALUES (?, ?, ?, ?);\n",
    "\"\"\", company_data)\n",
    "\n",
    "conn.commit()"
   ]
  }
 ],
 "metadata": {
  "kernelspec": {
   "display_name": "trades",
   "language": "python",
   "name": "python3"
  },
  "language_info": {
   "codemirror_mode": {
    "name": "ipython",
    "version": 3
   },
   "file_extension": ".py",
   "mimetype": "text/x-python",
   "name": "python",
   "nbconvert_exporter": "python",
   "pygments_lexer": "ipython3",
   "version": "3.10.17"
  }
 },
 "nbformat": 4,
 "nbformat_minor": 5
}
